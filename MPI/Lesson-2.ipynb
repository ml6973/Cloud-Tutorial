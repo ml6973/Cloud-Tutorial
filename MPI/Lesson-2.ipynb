{
 "cells": [
  {
   "cell_type": "markdown",
   "metadata": {},
   "source": [
    "<hr style=\"height:3px;border:none;color:#333;background-color:#333;\" />\n",
    "<img style=\" float:right; display:inline\" src=\"http://opencloud.utsa.edu/wp-content/themes/utsa-oci/images/logo.png\"/>\n",
    "\n",
    "### **University of Texas at San Antonio** \n",
    "<br/>\n",
    "<br/>\n",
    "<span style=\"color:#000; font-family: 'Bebas Neue'; font-size: 2.5em;\"> **Open Cloud Institute** </span>\n",
    "\n",
    "<hr style=\"height:3px;border:none;color:#333;background-color:#333;\" />"
   ]
  },
  {
   "cell_type": "markdown",
   "metadata": {
    "collapsed": true
   },
   "source": [
    "### Lesson 2: MPI\n",
    "\n",
    "\n",
    "### Swanand Mhalagi, Research Assistant \n",
    "#### swanand.mhalagi@utsa.edu \n",
    "\n",
    "**Open Cloud Institute, University of Texas at San Antonio, San Antonio, Texas, USA**\n",
    "<hr style=\"height:3px;border:none;color:#333;background-color:#333;\" />"
   ]
  },
  {
   "cell_type": "markdown",
   "metadata": {},
   "source": [
    "### Point to Point Communication:\n",
    "As tradition has it, we will introduce you to MPI programming using a variation on the standard hello world program: your first MPI python program will be the Hello World program for multiple processes. The source code is as follows:"
   ]
  },
  {
   "cell_type": "markdown",
   "metadata": {},
   "source": [
    "### Send(...) and Recv(...) Process:\n",
    "\n",
    "\n",
    "Comm.*Send*(buf, dest = 0, tag = 0) Performs a basic send. \n",
    "\n",
    "This send is a point-to-point communication. It sends information from exactly one process to exactly one other process.\n",
    "\n",
    "\n",
    "\n",
    "        Comm (MPI comm) – communicator we wish to query\n",
    "\n",
    "        buf (choice) – data to send\n",
    "\n",
    "        dest (integer) – rank of destination\n",
    "\n",
    "        tag (integer) – message tag \n",
    "\n",
    "\n",
    "\n",
    "Comm.*Recv*(buf, source = 0, tag = 0, Status status = None) Basic point-to-point receive of data \n",
    "\n",
    "\n",
    "        Comm (MPI comm) – communicator we wish to query\n",
    "\n",
    "        buf (choice) – initial address of receive buffer (choose receipt location)\n",
    "\n",
    "        source (integer) – rank of source\n",
    "\n",
    "        tag (integer) – message tag\n",
    "\n",
    "        status (Status) – status of object \n"
   ]
  },
  {
   "cell_type": "code",
   "execution_count": 4,
   "metadata": {
    "collapsed": true
   },
   "outputs": [],
   "source": [
    "%%bash\n",
    "cat <<'EOF'> passRandomDraw.py\n",
    "#passRandomDraw.py\n",
    "import numpy\n",
    "from mpi4py import MPI\n",
    "comm = MPI.COMM_WORLD\n",
    "rank = comm.Get_rank()\n",
    "\n",
    "randNum = numpy.zeros(1)\n",
    "\n",
    "if rank == 1:\n",
    "        randNum = numpy.random.random_sample(1)\n",
    "        print \"Process\", rank, \"drew the number\", randNum[0]\n",
    "        comm.Send(randNum, dest=0)\n",
    "\n",
    "if rank == 0:\n",
    "        print \"Process\", rank, \"before receiving has the number\", randNum[0]\n",
    "        comm.Recv(randNum, source=1)\n",
    "        print \"Process\", rank, \"received the number\", randNum[0]\n",
    "EOF"
   ]
  },
  {
   "cell_type": "markdown",
   "metadata": {},
   "source": [
    "To demonstrate that the code is working the way we expect, we have the drawing process print the value that it drew. Then we have the receiving process print the value of the vairable into which we will receive to show that it is zero, and then we print the value that it receives after the call to *Recv*. *Send* and *Recv* are referred to as blocking functions. That is, if a process calls *Recv*, it will sit idle until it has received a message from a corresponding Send before it will proceeed. See the appendix for the corresponding non-blocking functions *Isend* and *Irecv* (I stands for immediate). In essence, Irecv will return immediately."
   ]
  },
  {
   "cell_type": "code",
   "execution_count": 5,
   "metadata": {
    "collapsed": false
   },
   "outputs": [
    {
     "name": "stdout",
     "output_type": "stream",
     "text": [
      "Process 1 drew the number 0.510828594296\r\n",
      "Process 0 before receiving has the number 0.0\r\n",
      "Process 0 received the number 0.510828594296\r\n"
     ]
    }
   ],
   "source": [
    "!mpiexec -n 2 -mca btl ^openib python passRandomDraw.py"
   ]
  },
  {
   "cell_type": "markdown",
   "metadata": {},
   "source": [
    "*Send* and *Recv* are referred to as blocking functions. That is, if a process calls *Recv*, it will sit idle until it has received a message from a corresponding *Send* before it will proceeed. See the appendix for the corresponding non-blocking functions *Isend* and *Irecv* (I stands for immediate). In essence, *Irecv* will return immediately. If it did not receive its message it will indicate to the system that it will be receiving a message, proceed beyond the *Irecv* to do other useful work, and then check back later to see if the message has arrived. This can be used to dramatically improve performance. On a *Recv* you do not always need to specify the source. Instead, you can allow the calling process to accept a message from any process that happend to be sending to the receiving process. This is done by setting source to a predefined MPI constant, *source=ANY_SOURCE* (note that you would first need to import this with from *mpi4py.MPI import ANY_SOURCE* or use the syntax *source=MPI.ANY_SOURCE*)."
   ]
  }
 ],
 "metadata": {
  "kernelspec": {
   "display_name": "Python 2",
   "language": "python",
   "name": "python2"
  },
  "language_info": {
   "codemirror_mode": {
    "name": "ipython",
    "version": 2
   },
   "file_extension": ".py",
   "mimetype": "text/x-python",
   "name": "python",
   "nbconvert_exporter": "python",
   "pygments_lexer": "ipython2",
   "version": "2.7.6"
  }
 },
 "nbformat": 4,
 "nbformat_minor": 1
}
