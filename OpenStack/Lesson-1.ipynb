{
 "cells": [
  {
   "cell_type": "markdown",
   "metadata": {},
   "source": [
    "# Cloud Networking\n",
    "In today's data centers, networks are composed of more devices than ever before.\n",
    "Servers, switches, routers, storage systems, and security appliances now exist\n",
    "as virtual machines and virtual network appliances. These devices place a large\n",
    "strain on traditional network management systems, as they are unable to provide\n",
    "a scalable, automated approach to managing next-generation networks. Users now\n",
    "expect more control and flexibility of the infrastructure with quicker provisioning,\n",
    "all of which Cloud Networking promises to delive\n",
    "## Functions Of Cloud Networking\n",
    "Cloud Networking includes many technologies one would find in a data center,\n",
    "including (**switching, routing, load balancing, firewalling, and virtual private networks**) aaS.\n",
    "These features can be configured to leverage open source or commercial software,\n",
    "and provide a cloud operator with all the tools necessary to build a functional and\n",
    "self-contained cloud.Cloud Networking also provides a framework for\n",
    "third-party vendors to build on and enhance the capabilities of the cloud\n",
    "\n",
    "\n",
    "## Network Topologies Using Neutron\n",
    " Network Topologies using Neutron is an architecture which describes the network  which includes the private and public networks hsving their interefaces which are connected each other with L3 and L2 devices.\n",
    "\n"
   ]
  },
  {
   "cell_type": "markdown",
   "metadata": {},
   "source": [
    "## Building our First Network Topology\n",
    "Our initial network topology consists on creating two networks, each one connected to one instance."
   ]
  },
  {
   "cell_type": "markdown",
   "metadata": {},
   "source": [
    "\n",
    "\n",
    "![Image](https://github.com/ml6973/Cloud-Tutorial/blob/master/OpenStack/figures/case1.png?raw=True)\n",
    "\n"
   ]
  },
  {
   "cell_type": "code",
   "execution_count": null,
   "metadata": {
    "collapsed": false
   },
   "outputs": [],
   "source": [
    "%%bash\n",
    ". /home/stack/devstack/openrc admin admin\n",
    "\n",
    "neutron net-create my-private-network-1\n",
    "neutron net-create my-private-network-2\n",
    "neutron subnet-create my-private-network-1 --name my-private-subnet-1 --gateway 192.177.0.1 192.177.0.0/24\n",
    "neutron subnet-create my-private-network-2 --name my-private-subnet-2 --gateway 192.178.0.1 192.178.0.0/24\n",
    "nova boot --flavor 1 --image cirros-0.3.4-x86_64-uec --security-groups default --availability-zone nova --nic net-name=my-private-network-1 my-instance-1\n",
    "nova boot --flavor 1 --image cirros-0.3.4-x86_64-uec --security-groups default --availability-zone nova --nic net-name=my-private-network-2 my-instance-2\n",
    "\n",
    "PRIVATE_NET1_ID=$(neutron net-list | grep '| my-private-network-1' | awk '{print $2}')\n",
    "\n",
    "PRIVATE_NET1_NS='qdhcp-'$PRIVATE_NET1_ID\n",
    "\n",
    "NOVA_1=$(nova list | grep '| my-private-network-1' | awk '{print $12}')\n",
    "\n",
    "echo $NOVA_1\n",
    "\n",
    "sudo ip netns exec $PRIVATE_NET1_NS sshpass -p \"cubswin:)\" ssh  cirros@$NOVA_1\n"
   ]
  },
  {
   "cell_type": "markdown",
   "metadata": {},
   "source": [
    "## Testing Network Connectivity\n",
    "\n",
    "To perform network connectivity between instances, we will access **my_private_network_1** and request a ping to be performed from **my_instance_1** to **my_instance_2**. To perfom this action, run the following commands on the terminal:\n"
   ]
  },
  {
   "cell_type": "raw",
   "metadata": {},
   "source": [
    "sudo su - stack\n",
    "source devstack/openrc admin admin\n",
    "PRIVATE_NET1=$(neutron net-list | grep '| my-private-network-1' | awk '{print $2}')\n",
    "PRIVATE_NET1='qdhcp-'$PRIVATE_NET1\n",
    "MY_INSTANCE_1=$(nova list | grep '| my-private-network-1' | awk '{print $12}')\n",
    "MY_INSTANCE_2=$(nova list | grep '| my-private-network-2' | awk '{print $12}')\n",
    "MY_INSTANCE_1=${MY_INSTANCE_1:21}\n",
    "MY_INSTANCE_2=${MY_INSTANCE_2:21}\n",
    "sudo ip netns exec $PRIVATE_NET1 ping -S $MY_INSTANCE_1 $MY_INSTANCE_2"
   ]
  },
  {
   "cell_type": "code",
   "execution_count": null,
   "metadata": {
    "collapsed": false
   },
   "outputs": [],
   "source": [
    "from IPython.display import IFrame\n",
    "IFrame (\"http://129.114.108.71:8888/terminals/1\", width = 800, height=500)"
   ]
  },
  {
   "cell_type": "markdown",
   "metadata": {},
   "source": [
    "## Output\n",
    "In the given topology each instance is  connected to a private network but as it can be observed, there is no connectivity between instances."
   ]
  },
  {
   "cell_type": "markdown",
   "metadata": {},
   "source": [
    "## First Network Topology Clean-up\n",
    "\n",
    "The code shown below will remove the previously created topology."
   ]
  },
  {
   "cell_type": "code",
   "execution_count": null,
   "metadata": {
    "collapsed": false
   },
   "outputs": [],
   "source": [
    "%%bash\n",
    ". /home/stack/devstack/openrc admin admin\n",
    "\n",
    "nova delete my-instance-1\n",
    "nova delete my-instance-2\n",
    "\n",
    "#Private 1,2\n",
    "PRIVATE_SUBNET_ID=$(neutron subnet-list | grep '| my-private-subnet1' | awk '{print $2}')\n",
    "for i in `neutron port-list | grep -v '+' | grep -v 'fixed_ips' | awk '{print $2}'`;\n",
    "do\n",
    "  if [ \"$i\" != \"|\" ]\n",
    "  then\n",
    "    neutron port-update --device-owner None $i;\n",
    "    neutron port-delete $i;\n",
    "  fi\n",
    "done;\n",
    "\n",
    "neutron net-delete my-private-network-1\n",
    "neutron net-delete my-private-network-2\n",
    "\n",
    "\n",
    "#nova aggregate-remove-host my-aggregate-0 computenode0\n",
    "#nova aggregate-delete my-aggregate-0"
   ]
  },
  {
   "cell_type": "markdown",
   "metadata": {},
   "source": [
    "## Second Network Topology\n",
    "On this second example, we will have the same network topology as the one constructed on our first example with the addition of a router connecting both private networks."
   ]
  },
  {
   "cell_type": "markdown",
   "metadata": {},
   "source": [
    "\n",
    "\n",
    "![Image](https://github.com/ml6973/Cloud-Tutorial/blob/master/OpenStack/figures/case2.png?raw=True)\n",
    "\n"
   ]
  },
  {
   "cell_type": "code",
   "execution_count": null,
   "metadata": {
    "collapsed": false,
    "scrolled": false
   },
   "outputs": [],
   "source": [
    "%%bash\n",
    ". /home/stack/devstack/openrc admin admin\n",
    "neutron net-create my-private-network-1\n",
    "neutron net-create my-private-network-2\n",
    "neutron subnet-create my-private-network-1 --name my-private-subnet-1 --gateway 192.180.0.1 192.180.0.0/24\n",
    "neutron subnet-create my-private-network-2 --name my-private-subnet-2 --gateway 192.181.0.1 192.181.0.0/24\n",
    "\n",
    "neutron router-create my-router-1\n",
    "\n",
    "neutron router-interface-add my-router-1 my-private-subnet-1\n",
    "neutron router-interface-add my-router-1 my-private-subnet-2\n",
    "\n",
    "nova boot --flavor 1 --image cirros-0.3.4-x86_64-uec --security-groups default --availability-zone nova --nic net-name=my-private-network-1 my-instance-1\n",
    "nova boot --flavor 1 --image cirros-0.3.4-x86_64-uec --security-groups default --availability-zone nova --nic net-name=my-private-network-2 my-instance-2\n"
   ]
  },
  {
   "cell_type": "markdown",
   "metadata": {},
   "source": [
    "## Testing Network Connectivity\n",
    "\n",
    "To perform network connectivity between instances, we will access the **my-router-1** and request a ping to be performed from **my_instance_1** to **my_instance_2**. To perform this action, run the following commands on the terminal:"
   ]
  },
  {
   "cell_type": "raw",
   "metadata": {},
   "source": [
    "sudo su - stack\n",
    "source devstack/openrc admin admin\n",
    "ROUTER_1=$(neutron router-list | grep '| my-router-1' | awk '{print $2}')\n",
    "ROUTER_1='qrouter-'$ROUTER_1\n",
    "MY_INSTANCE_1=$(nova list | grep '| my-private-network-1' | awk '{print $12}')\n",
    "MY_INSTANCE_2=$(nova list | grep '| my-private-network-2' | awk '{print $12}')\n",
    "MY_INSTANCE_1=${MY_INSTANCE_1:21}\n",
    "MY_INSTANCE_2=${MY_INSTANCE_2:21}\n",
    "sudo ip netns exec $ROUTER_1 ping -S $MY_INSTANCE_1 $MY_INSTANCE_2"
   ]
  },
  {
   "cell_type": "code",
   "execution_count": null,
   "metadata": {
    "collapsed": false
   },
   "outputs": [],
   "source": [
    "from IPython.display import IFrame\n",
    "IFrame (\"http://129.114.108.71:8888/terminals/1\", width = 800, height=500)"
   ]
  },
  {
   "cell_type": "markdown",
   "metadata": {},
   "source": [
    "## Output\n",
    "In the given topology, each instance is  connected to a private network. In addition a router is connecting both of our private networks. As it was demonstrated, now we are able to observe the connectivity between instances in different networks."
   ]
  },
  {
   "cell_type": "markdown",
   "metadata": {},
   "source": [
    "## Second Network Topology Clean-up\n",
    "\n",
    "The code shown below will remove the previously created topology."
   ]
  },
  {
   "cell_type": "code",
   "execution_count": null,
   "metadata": {
    "collapsed": false
   },
   "outputs": [],
   "source": [
    "%%bash\n",
    ". /home/stack/devstack/openrc admin admin\n",
    "\n",
    "nova delete my-instance-1\n",
    "nova delete my-instance-2\n",
    "\n",
    "#Router 1, Public, Private 1,2\n",
    "ROUTER_ID=$(neutron router-list | grep my-router-1 | grep -v '+' | grep -v 'external_gateway' | awk '{ print $2 }')\n",
    "PRIVATE_SUBNET_ID=$(neutron subnet-list | grep '| my-private-subnet1' | awk '{print $2}')\n",
    "neutron router-gateway-clear $ROUTER_ID\n",
    "\n",
    "for i in `neutron port-list | grep -v '+' | grep -v 'fixed_ips' | awk '{print $2}'`;\n",
    "do\n",
    "  if [ \"$i\" != \"|\" ]\n",
    "  then\n",
    "    neutron port-update --device-owner None $i;\n",
    "    neutron port-delete $i;\n",
    "  fi\n",
    "done;\n",
    "\n",
    "neutron router-delete my-router-1\n",
    "neutron net-delete my-private-network-1\n",
    "neutron net-delete my-private-network-2\n",
    "\n",
    "\n",
    "#nova aggregate-remove-host my-aggregate-0 computenode0\n",
    "#nova aggregate-delete my-aggregate-0\n",
    "\n",
    "\n",
    "\n",
    "\n"
   ]
  },
  {
   "cell_type": "markdown",
   "metadata": {},
   "source": [
    "## Creating our First Complex Network Topology\n",
    "In our first complex topology, we will proceed to create one public network which we will connect to two routers. Each router will be connected to the two different private networks and at the end, we will create two instances and connect them to private networks that are attached to different routers."
   ]
  },
  {
   "cell_type": "markdown",
   "metadata": {},
   "source": [
    "![Image](https://github.com/cloudandbigdatalab/eLab-GUI-web-portal/blob/development/WebContent/resources/marketPlaceData/CloudNetworking/images/topology.png?raw=True)\n",
    "\n"
   ]
  },
  {
   "cell_type": "code",
   "execution_count": null,
   "metadata": {
    "collapsed": false
   },
   "outputs": [],
   "source": [
    "%%bash\n",
    ". /home/stack/devstack/openrc admin admin\n",
    "\n",
    "neutron net-create --shared --provider:network_type flat --provider:physical_network flat --router:external my-public-network\n",
    "\n",
    "neutron subnet-create --name my-public-subnet-1 --gateway 10.10.10.1 --allocation-pool start=10.10.10.2,end=10.10.10.255 --dns-nameserver 8.8.8.8 my-public-network 10.10.0.0/16\n",
    "neutron subnet-create --name my-public-subnet-2 --gateway 10.20.10.1 --allocation-pool start=10.20.10.2,end=10.20.10.255 --dns-nameserver 8.8.8.8 my-public-network 10.20.0.0/16\n",
    "\n",
    "neutron net-create my-private-network-1\n",
    "neutron net-create my-private-network-2\n",
    "neutron net-create my-private-network-3\n",
    "neutron net-create my-private-network-4\n",
    "\n",
    "neutron subnet-create my-private-network-1 --name my-private-subnet-1 --gateway 192.168.0.1 192.168.0.0/24\n",
    "neutron subnet-create my-private-network-2 --name my-private-subnet-2 --gateway 192.169.0.1 192.169.0.0/24\n",
    "neutron subnet-create my-private-network-3 --name my-private-subnet-3 --gateway 192.170.0.1 192.170.0.0/24\n",
    "neutron subnet-create my-private-network-4 --name my-private-subnet-4 --gateway 192.171.0.1 192.171.0.0/24\n",
    "\n",
    "neutron router-create my-router-1\n",
    "neutron router-create my-router-2\n",
    "\n",
    "neutron router-interface-add my-router-1 my-public-subnet-1\n",
    "neutron router-interface-add my-router-2 my-public-subnet-2\n",
    "\n",
    "neutron router-interface-add my-router-1 my-private-subnet-1\n",
    "neutron router-interface-add my-router-1 my-private-subnet-2\n",
    "neutron router-interface-add my-router-2 my-private-subnet-3\n",
    "neutron router-interface-add my-router-2 my-private-subnet-4\n",
    "\n",
    "nova flavor-list\n",
    "glance image-list\n",
    "\n",
    "nova aggregate-create my-aggregate-0 compute-0\n",
    "nova aggregate-add-host my-aggregate-0 computenode0\n",
    "\n",
    "nova boot --flavor 1 --image cirros-0.3.4-x86_64-uec --security-groups default --availability-zone nova --nic net-name=my-private-network-1 my-instance-01\n",
    "nova boot --flavor 1 --image cirros-0.3.4-x86_64-uec --security-groups default --availability-zone compute-0 --nic net-name=my-private-network-4 my-instance-02\n",
    "\n",
    "nova list\n",
    "nova availability-zone-list"
   ]
  },
  {
   "cell_type": "markdown",
   "metadata": {},
   "source": [
    "## Output of The Code\n",
    "As it can be observed, Neutron is a dynamic tool that can be used to build complex and scalable networks in our cloud environments within seconds."
   ]
  },
  {
   "cell_type": "markdown",
   "metadata": {},
   "source": [
    "## Third Network Topology Clean-up\n",
    "\n",
    "The code shown below will remove the previously created topology.\n"
   ]
  },
  {
   "cell_type": "code",
   "execution_count": null,
   "metadata": {
    "collapsed": false
   },
   "outputs": [],
   "source": [
    "%%bash\n",
    ". /home/stack/devstack/openrc admin admin\n",
    "\n",
    "nova delete my-instance-01\n",
    "nova delete my-instance-02\n",
    "\n",
    "#Router 1, Public, Private 1,2\n",
    "ROUTER_ID=$(neutron router-list | grep my-router-1 | grep -v '+' | grep -v 'external_gateway' | awk '{ print $2 }')\n",
    "PRIVATE_SUBNET_ID=$(neutron subnet-list | grep '| my-private-subnet1' | awk '{print $2}')\n",
    "PUBLIC_SUBNET_ID=$(neutron subnet-list | grep '| my-public-subnet' | awk '{print $2}')\n",
    "neutron router-gateway-clear $ROUTER_ID\n",
    "\n",
    "for i in `neutron port-list | grep -v '+' | grep -v 'fixed_ips' | awk '{print $2}'`;\n",
    "do\n",
    "  if [ \"$i\" != \"|\" ]\n",
    "  then\n",
    "    neutron port-update --device-owner None $i;\n",
    "    neutron port-delete $i;\n",
    "  fi\n",
    "done;\n",
    "\n",
    "neutron router-delete my-router-1\n",
    "neutron net-delete my-public-network\n",
    "neutron net-delete my-private-network-1\n",
    "neutron net-delete my-private-network-2\n",
    "\n",
    "#Router 2, Private 3,4\n",
    "ROUTER_ID=$(neutron router-list | grep my-router-2 | grep -v '+' | grep -v 'external_gateway' | awk '{ print $2 }')\n",
    "PRIVATE_SUBNET_ID=$(neutron subnet-list | grep '| my-private-subnet3' | awk '{print $2}')\n",
    "neutron router-gateway-clear $ROUTER_ID\n",
    "\n",
    "for i in `neutron port-list | grep -v '+' | grep -v 'fixed_ips' | awk '{print $2}'`;\n",
    "do\n",
    "  neutron port-update --device-owner None $i;\n",
    "  neutron port-delete $i;\n",
    "done;\n",
    "\n",
    "neutron router-delete my-router-2\n",
    "neutron net-delete my-private-network-3\n",
    "neutron net-delete my-private-network-4\n",
    "\n",
    "nova aggregate-remove-host my-aggregate-0 computenode0\n",
    "nova aggregate-delete my-aggregate-0"
   ]
  }
 ],
 "metadata": {
  "anaconda-cloud": {},
  "kernelspec": {
   "display_name": "Python 2",
   "language": "python",
   "name": "python2"
  },
  "language_info": {
   "codemirror_mode": {
    "name": "ipython",
    "version": 2
   },
   "file_extension": ".py",
   "mimetype": "text/x-python",
   "name": "python",
   "nbconvert_exporter": "python",
   "pygments_lexer": "ipython2",
   "version": "2.7.6"
  }
 },
 "nbformat": 4,
 "nbformat_minor": 1
}
